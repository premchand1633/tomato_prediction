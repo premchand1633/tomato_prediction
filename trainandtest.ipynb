{
 "cells": [
  {
   "cell_type": "code",
   "execution_count": 2,
   "id": "6e84df4b",
   "metadata": {},
   "outputs": [],
   "source": [
    "import tensorflow as tf\n",
    "from tensorflow.keras import layers, models\n",
    "from tensorflow.keras.preprocessing.image import ImageDataGenerator\n",
    "from tensorflow.keras.layers import Dense,Activation,Dropout,MaxPooling2D,Conv2D,Flatten\n",
    "from tensorflow.keras.models import Sequential"
   ]
  },
  {
   "cell_type": "code",
   "execution_count": 3,
   "id": "0230d03a",
   "metadata": {},
   "outputs": [],
   "source": [
    "size=224\n",
    "\n",
    "# Define your model\n",
    "model = Sequential()\n",
    "model.add(Conv2D(64, (3, 3), activation='relu', padding='same', input_shape=(size, size, 3)))\n",
    "model.add(MaxPooling2D(2, 2))\n",
    "model.add(Conv2D(64, (3, 3), activation='relu', padding='same'))\n",
    "model.add(MaxPooling2D(2, 2))\n",
    "model.add(Conv2D(64, (3, 3), activation='relu', padding='same'))\n",
    "model.add(MaxPooling2D(2, 2))\n",
    "model.add(Conv2D(32, (3, 3), activation='relu', padding='same'))\n",
    "model.add(MaxPooling2D(2, 2))\n",
    "model.add(Conv2D(32, (3, 3), activation='relu', padding='same'))\n",
    "model.add(MaxPooling2D(2, 2))\n",
    "model.add(Flatten())\n",
    "model.add(Dense(128, activation='relu'))\n",
    "model.add(Dropout(0.5))\n",
    "model.add(Dense(2, activation='softmax'))\n",
    "\n",
    "\n",
    "model.compile(optimizer='adam', loss='binary_crossentropy', metrics=['accuracy'])\n",
    "\n",
    "\n",
    "\n"
   ]
  },
  {
   "cell_type": "code",
   "execution_count": 4,
   "id": "5d4c818e",
   "metadata": {},
   "outputs": [
    {
     "name": "stdout",
     "output_type": "stream",
     "text": [
      "Found 203 images belonging to 2 classes.\n",
      "Found 85 images belonging to 2 classes.\n"
     ]
    }
   ],
   "source": [
    "\n",
    "\n",
    "train=r'C:\\Users\\shreya reddy\\Downloads\\tomato harvesting\\dataa'\n",
    "datagen = ImageDataGenerator(\n",
    "    rescale=1./255,\n",
    "    shear_range=0.2,\n",
    "    zoom_range=0.2,\n",
    "    horizontal_flip=True,\n",
    "    vertical_flip=True,\n",
    "    validation_split=0.3  # Adjust the validation split as needed\n",
    ")\n",
    "\n",
    "size = 226\n",
    "batch_size = 32\n",
    "\n",
    "train_data = datagen.flow_from_directory(\n",
    "    train,\n",
    "    target_size=(size, size),\n",
    "    batch_size=batch_size,\n",
    "    subset='training'  # This is the training subset\n",
    ")\n",
    "\n",
    "validation_data = datagen.flow_from_directory(\n",
    "    train,\n",
    "    target_size=(size, size),\n",
    "    batch_size=batch_size, \n",
    "    subset='validation'  # This is the validation subset\n",
    ")"
   ]
  },
  {
   "cell_type": "code",
   "execution_count": null,
   "id": "6bf64f6e",
   "metadata": {},
   "outputs": [],
   "source": [
    "\n",
    "\n",
    "\n",
    "\n"
   ]
  },
  {
   "cell_type": "code",
   "execution_count": 5,
   "id": "0bdd2c28",
   "metadata": {},
   "outputs": [
    {
     "name": "stdout",
     "output_type": "stream",
     "text": [
      "Epoch 1/10\n",
      "7/7 [==============================] - 57s 8s/step - loss: 0.6512 - accuracy: 0.6207 - val_loss: 0.4634 - val_accuracy: 0.8941\n",
      "Epoch 2/10\n",
      "7/7 [==============================] - 51s 8s/step - loss: 0.3926 - accuracy: 0.8867 - val_loss: 0.4977 - val_accuracy: 0.8118\n",
      "Epoch 3/10\n",
      "7/7 [==============================] - 48s 7s/step - loss: 0.3660 - accuracy: 0.8966 - val_loss: 0.3806 - val_accuracy: 0.8706\n",
      "Epoch 4/10\n",
      "7/7 [==============================] - 50s 7s/step - loss: 0.3082 - accuracy: 0.8768 - val_loss: 0.3624 - val_accuracy: 0.8235\n",
      "Epoch 5/10\n",
      "7/7 [==============================] - 48s 7s/step - loss: 0.3353 - accuracy: 0.9015 - val_loss: 0.3464 - val_accuracy: 0.8941\n",
      "Epoch 6/10\n",
      "7/7 [==============================] - 47s 7s/step - loss: 0.2885 - accuracy: 0.9015 - val_loss: 0.3239 - val_accuracy: 0.8588\n",
      "Epoch 7/10\n",
      "7/7 [==============================] - 51s 7s/step - loss: 0.3030 - accuracy: 0.9113 - val_loss: 0.3234 - val_accuracy: 0.8706\n",
      "Epoch 8/10\n",
      "7/7 [==============================] - 51s 7s/step - loss: 0.2850 - accuracy: 0.9015 - val_loss: 0.2999 - val_accuracy: 0.8588\n",
      "Epoch 9/10\n",
      "7/7 [==============================] - 48s 7s/step - loss: 0.2396 - accuracy: 0.9163 - val_loss: 0.2922 - val_accuracy: 0.8941\n",
      "Epoch 10/10\n",
      "7/7 [==============================] - 48s 7s/step - loss: 0.2474 - accuracy: 0.9212 - val_loss: 0.3065 - val_accuracy: 0.8824\n"
     ]
    },
    {
     "ename": "KeyboardInterrupt",
     "evalue": "",
     "output_type": "error",
     "traceback": [
      "\u001b[1;31m---------------------------------------------------------------------------\u001b[0m",
      "\u001b[1;31mKeyboardInterrupt\u001b[0m                         Traceback (most recent call last)",
      "Cell \u001b[1;32mIn[5], line 2\u001b[0m\n\u001b[0;32m      1\u001b[0m \u001b[38;5;66;03m# Train the model\u001b[39;00m\n\u001b[1;32m----> 2\u001b[0m history\u001b[38;5;241m=\u001b[39mmodel\u001b[38;5;241m.\u001b[39mfit(train_data, epochs\u001b[38;5;241m=\u001b[39m\u001b[38;5;241m10\u001b[39m, validation_data\u001b[38;5;241m=\u001b[39mvalidation_data)\n",
      "File \u001b[1;32m~\\AppData\\Roaming\\Python\\Python311\\site-packages\\keras\\src\\utils\\traceback_utils.py:65\u001b[0m, in \u001b[0;36mfilter_traceback.<locals>.error_handler\u001b[1;34m(*args, **kwargs)\u001b[0m\n\u001b[0;32m     63\u001b[0m filtered_tb \u001b[38;5;241m=\u001b[39m \u001b[38;5;28;01mNone\u001b[39;00m\n\u001b[0;32m     64\u001b[0m \u001b[38;5;28;01mtry\u001b[39;00m:\n\u001b[1;32m---> 65\u001b[0m     \u001b[38;5;28;01mreturn\u001b[39;00m fn(\u001b[38;5;241m*\u001b[39margs, \u001b[38;5;241m*\u001b[39m\u001b[38;5;241m*\u001b[39mkwargs)\n\u001b[0;32m     66\u001b[0m \u001b[38;5;28;01mexcept\u001b[39;00m \u001b[38;5;167;01mException\u001b[39;00m \u001b[38;5;28;01mas\u001b[39;00m e:\n\u001b[0;32m     67\u001b[0m     filtered_tb \u001b[38;5;241m=\u001b[39m _process_traceback_frames(e\u001b[38;5;241m.\u001b[39m__traceback__)\n",
      "\u001b[1;31mKeyboardInterrupt\u001b[0m: "
     ]
    }
   ],
   "source": [
    "# Train the model\n",
    "history=model.fit(train_data, epochs=10, validation_data=validation_data)"
   ]
  },
  {
   "cell_type": "code",
   "execution_count": null,
   "id": "136102cc",
   "metadata": {},
   "outputs": [],
   "source": [
    "# save the trained model\n",
    "model.save('model.h5')\n"
   ]
  },
  {
   "cell_type": "code",
   "execution_count": null,
   "id": "2a71328e",
   "metadata": {},
   "outputs": [],
   "source": [
    "acc=history.history['accuracy']\n",
    "val_acc=history.history['val_accuracy']\n",
    "import matplotlib.pyplot as plt\n",
    "plt.plot(acc,label='accuracy')\n",
    "plt.plot(val_acc,label='val_accuracy')\n",
    "plt.legend()\n",
    "loss=history.history['loss']\n",
    "val_loss=history.history['val_loss']\n",
    "plt.plot(loss,label='loss')\n",
    "plt.plot(val_loss,label='val_loss')\n",
    "plt.legend()"
   ]
  },
  {
   "cell_type": "code",
   "execution_count": null,
   "id": "4ebec116",
   "metadata": {},
   "outputs": [],
   "source": []
  },
  {
   "cell_type": "code",
   "execution_count": 7,
   "id": "1d5107d9",
   "metadata": {},
   "outputs": [
    {
     "name": "stdout",
     "output_type": "stream",
     "text": [
      "1/1 [==============================] - 0s 253ms/step\n",
      "[[0.9107745  0.08922546]]\n"
     ]
    }
   ],
   "source": [
    "from keras.preprocessing import image\n",
    "import numpy as np\n",
    "\n",
    "\n",
    "img = image.load_img(r'C:\\Users\\shreya reddy\\Downloads\\tomato harvesting\\dataa\\riped\\Riped tomato_251.jpeg', target_size=(224,224))\n",
    "img = image.img_to_array(img)\n",
    "img = np.expand_dims(img, axis=0)\n",
    "img = img / 255.0  # Normalize the pixel values\n",
    "\n",
    "prediction = model.predict(img)\n",
    "print(prediction)"
   ]
  },
  {
   "cell_type": "code",
   "execution_count": 21,
   "id": "c1435d30",
   "metadata": {},
   "outputs": [
    {
     "name": "stdout",
     "output_type": "stream",
     "text": [
      "1/1 [==============================] - 0s 79ms/step\n",
      "[[0.02813809 0.97186196]]\n",
      "The tomato is unriped.\n",
      "2 data is sent\n"
     ]
    }
   ],
   "source": [
    "from keras.preprocessing import image\n",
    "import numpy as np\n",
    "import serial\n",
    "import time\n",
    "arduino = serial.Serial('COM5',9600)\n",
    "time.sleep(2)\n",
    "\n",
    "\n",
    "img = image.load_img(r'C:\\Users\\shreya reddy\\Downloads\\tomato harvesting\\dataa\\riped\\Riped tomato_251.jpeg', target_size=(226, 226))\n",
    "img = image.img_to_array(img)\n",
    "img = np.expand_dims(img, axis=0)\n",
    "img = img / 255.0  # Normalize the pixel values\n",
    "\n",
    "prediction = model.predict(img)\n",
    "print(prediction)\n",
    "binary_prediction = np.round(prediction)# Display the result\n",
    "\n",
    "if binary_prediction[0,0] >= 0.5:\n",
    "    \n",
    "    print(\"The tomato is riped.\")\n",
    "    print(\"1 data is sent\")\n",
    "    arduino.write(b'1')\n",
    "    time.sleep(2)\n",
    "    arduino.write(b'0')\n",
    "    \n",
    "else:\n",
    "    \n",
    "    print(\"The tomato is unriped.\")\n",
    "    print(\"2 data is sent\")\n",
    "    arduino.write(b'2')\n",
    "    time.sleep(2)\n",
    "    arduino.write(b'0')\n",
    "    "
   ]
  },
  {
   "cell_type": "code",
   "execution_count": null,
   "id": "96bf1f5a",
   "metadata": {},
   "outputs": [],
   "source": []
  },
  {
   "cell_type": "code",
   "execution_count": null,
   "id": "24092d7c",
   "metadata": {},
   "outputs": [],
   "source": []
  }
 ],
 "metadata": {
  "kernelspec": {
   "display_name": "Python 3 (ipykernel)",
   "language": "python",
   "name": "python3"
  },
  "language_info": {
   "codemirror_mode": {
    "name": "ipython",
    "version": 3
   },
   "file_extension": ".py",
   "mimetype": "text/x-python",
   "name": "python",
   "nbconvert_exporter": "python",
   "pygments_lexer": "ipython3",
   "version": "3.11.5"
  }
 },
 "nbformat": 4,
 "nbformat_minor": 5
}
