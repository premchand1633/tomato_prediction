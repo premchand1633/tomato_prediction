{
 "cells": [
  {
   "cell_type": "code",
   "execution_count": 1,
   "id": "ef6f48ce",
   "metadata": {},
   "outputs": [],
   "source": [
    "from keras.models import load_model\n",
    "\n",
    "# Load the saved model\n",
    "loaded_model = load_model('model.h5')"
   ]
  },
  {
   "cell_type": "code",
   "execution_count": 2,
   "id": "a6bc52d5",
   "metadata": {},
   "outputs": [
    {
     "name": "stdout",
     "output_type": "stream",
     "text": [
      "1/1 [==============================] - 0s 296ms/step\n",
      "[[0.06223777 0.93776226]]\n"
     ]
    }
   ],
   "source": [
    "# Assuming 'test_image.jpg' is the path to the image you want to predict\n",
    "from keras.preprocessing import image\n",
    "import numpy as np\n",
    "\n",
    "img = image.load_img(r\"C:\\Users\\shreya reddy\\OneDrive\\Desktop\\datset\\test\\unriped\\tomates_2020-08-06-11-35-15_side_0115.jpg\", target_size=(224,224))\n",
    "img = image.img_to_array(img)\n",
    "img = np.expand_dims(img, axis=0)\n",
    "img = img / 255.0  # Normalize the pixel values\n",
    "\n",
    "prediction = loaded_model.predict(img)\n",
    "print(prediction)"
   ]
  },
  {
   "cell_type": "code",
   "execution_count": 3,
   "id": "493c1d71",
   "metadata": {},
   "outputs": [
    {
     "name": "stdout",
     "output_type": "stream",
     "text": [
      "The tomato is unriped.\n"
     ]
    }
   ],
   "source": [
    "binary_prediction = np.round(prediction)\n",
    "\n",
    "# Display the result\n",
    "if binary_prediction[0,0] >= 0.5:\n",
    "    \n",
    "    print(\"The tomato is riped.\")\n",
    "else:\n",
    "    print(\"The tomato is unriped.\")"
   ]
  },
  {
   "cell_type": "code",
   "execution_count": null,
   "id": "d9b94555",
   "metadata": {},
   "outputs": [],
   "source": []
  }
 ],
 "metadata": {
  "kernelspec": {
   "display_name": "Python 3 (ipykernel)",
   "language": "python",
   "name": "python3"
  },
  "language_info": {
   "codemirror_mode": {
    "name": "ipython",
    "version": 3
   },
   "file_extension": ".py",
   "mimetype": "text/x-python",
   "name": "python",
   "nbconvert_exporter": "python",
   "pygments_lexer": "ipython3",
   "version": "3.11.5"
  }
 },
 "nbformat": 4,
 "nbformat_minor": 5
}
